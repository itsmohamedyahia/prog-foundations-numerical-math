{
 "cells": [
  {
   "cell_type": "markdown",
   "id": "89a8353f",
   "metadata": {},
   "source": [
    "### Solution: creating a grouped frequency table"
   ]
  },
  {
   "cell_type": "code",
   "execution_count": 1,
   "id": "04818dac",
   "metadata": {},
   "outputs": [],
   "source": [
    "from collections import Counter"
   ]
  },
  {
   "cell_type": "code",
   "execution_count": 2,
   "id": "969f020f",
   "metadata": {},
   "outputs": [],
   "source": [
    "def frequency_table_dogs(numbers):\n",
    "    table=Counter(numbers)\n",
    "    print('{:>20}\\t{:>10}'.format('dog breed','frequency'))\n",
    "    print('-----------------------------------------')\n",
    "    for number in table.most_common():\n",
    "         print('{:>20}\\t{:>10}'.format(number[0],number[1]))"
   ]
  },
  {
   "cell_type": "code",
   "execution_count": 3,
   "id": "29659fe6",
   "metadata": {},
   "outputs": [],
   "source": [
    "dogs=['Golden Retrievers','French Bulldogs','Dachshunds','Retrievers','Beagles','Dachshunds','German Shepherd Dogs','French Bulldogs','Poodles','French Bulldogs','Beagles','Beagles','Beagles','Beagles','Retrievers','Bulldogs','Retrievers','Retrievers','Poodles','Dachshunds','French Bulldogs','Retrievers','Dachshunds','Retrievers','Dachshunds','Retrievers','Retrievers','Poodles','Dachshunds','Retrievers','German Shepherd Dogs','Golden Retrievers','French Bulldogs','Poodles','Beagles','German Shepherd Dogs','Dachshunds','Retrievers','Retrievers','Bulldogs','French Bulldogs','German Shepherd Dogs','Dachshunds','Retrievers','Beagles','Beagles','French Bulldogs','Retrievers','Beagles','Golden Retrievers','Dachshunds','Beagles','Beagles','Beagles','Bulldogs','German Shepherd Dogs','Bulldogs','Beagles','Beagles','Bulldogs','Dachshunds','French Bulldogs','French Bulldogs','Bulldogs','German Shepherd Dogs','Bulldogs','German Shepherd Dogs','Retrievers','Beagles','Bulldogs','Golden Retrievers','Beagles','Retrievers','Poodles','German Shepherd Dogs','French Bulldogs','Poodles','Beagles','Retrievers','Retrievers','Poodles','Golden Retrievers','German Shepherd Dogs','French Bulldogs','Retrievers']"
   ]
  },
  {
   "cell_type": "code",
   "execution_count": 4,
   "id": "f672b609",
   "metadata": {},
   "outputs": [
    {
     "name": "stdout",
     "output_type": "stream",
     "text": [
      "           dog breed\t frequency\n",
      "-----------------------------------------\n",
      "          Retrievers\t        18\n",
      "             Beagles\t        17\n",
      "     French Bulldogs\t        11\n",
      "          Dachshunds\t        10\n",
      "German Shepherd Dogs\t         9\n",
      "            Bulldogs\t         8\n",
      "             Poodles\t         7\n",
      "   Golden Retrievers\t         5\n"
     ]
    }
   ],
   "source": [
    "frequency_table_dogs(dogs)"
   ]
  },
  {
   "cell_type": "code",
   "execution_count": null,
   "id": "7ad47a03",
   "metadata": {},
   "outputs": [],
   "source": []
  }
 ],
 "metadata": {
  "kernelspec": {
   "display_name": "Python 3",
   "language": "python",
   "name": "python3"
  },
  "language_info": {
   "codemirror_mode": {
    "name": "ipython",
    "version": 3
   },
   "file_extension": ".py",
   "mimetype": "text/x-python",
   "name": "python",
   "nbconvert_exporter": "python",
   "pygments_lexer": "ipython3",
   "version": "3.8.8"
  }
 },
 "nbformat": 4,
 "nbformat_minor": 5
}
