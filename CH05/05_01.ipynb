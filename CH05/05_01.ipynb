{
 "cells": [
  {
   "cell_type": "markdown",
   "id": "9d4c341a",
   "metadata": {},
   "source": [
    "### Calculating the mean"
   ]
  },
  {
   "cell_type": "code",
   "execution_count": 1,
   "id": "1461507a",
   "metadata": {},
   "outputs": [],
   "source": [
    "def average_salary(numbers):\n",
    "    sum_of_salaries=sum(numbers)\n",
    "    employees=len(numbers)\n",
    "    mean=sum_of_salaries/employees\n",
    "    return mean"
   ]
  },
  {
   "cell_type": "code",
   "execution_count": 2,
   "id": "ffe5945b",
   "metadata": {},
   "outputs": [],
   "source": [
    "salaries=[130000,130000,130000,250000,80000,80000,80000,80000]"
   ]
  },
  {
   "cell_type": "code",
   "execution_count": 3,
   "id": "4c7326c6",
   "metadata": {},
   "outputs": [
    {
     "data": {
      "text/plain": [
       "120000.0"
      ]
     },
     "execution_count": 3,
     "metadata": {},
     "output_type": "execute_result"
    }
   ],
   "source": [
    "average_salary(salaries)"
   ]
  },
  {
   "cell_type": "code",
   "execution_count": null,
   "id": "dfbc2d6a",
   "metadata": {},
   "outputs": [],
   "source": []
  }
 ],
 "metadata": {
  "kernelspec": {
   "display_name": "Python 3",
   "language": "python",
   "name": "python3"
  },
  "language_info": {
   "codemirror_mode": {
    "name": "ipython",
    "version": 3
   },
   "file_extension": ".py",
   "mimetype": "text/x-python",
   "name": "python",
   "nbconvert_exporter": "python",
   "pygments_lexer": "ipython3",
   "version": "3.8.8"
  }
 },
 "nbformat": 4,
 "nbformat_minor": 5
}
