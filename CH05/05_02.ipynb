{
 "cells": [
  {
   "cell_type": "markdown",
   "id": "b6da361f",
   "metadata": {},
   "source": [
    "### Calculating the median"
   ]
  },
  {
   "cell_type": "code",
   "execution_count": 27,
   "id": "31512d73",
   "metadata": {},
   "outputs": [],
   "source": [
    "def median_calculation(numbers):\n",
    "    numbers.sort()\n",
    "    length=len(numbers)\n",
    "    mid=(length)//2\n",
    "    if(length%2==0):\n",
    "        return(numbers[mid-1]+numbers[mid])/2\n",
    "    else:\n",
    "        return numbers[mid]"
   ]
  },
  {
   "cell_type": "code",
   "execution_count": 28,
   "id": "4fc3e96f",
   "metadata": {},
   "outputs": [
    {
     "data": {
      "text/plain": [
       "43.5"
      ]
     },
     "execution_count": 28,
     "metadata": {},
     "output_type": "execute_result"
    }
   ],
   "source": [
    "median_calculation([22, 50, 45, 30, 58, 42, 40, 60])\n"
   ]
  },
  {
   "cell_type": "code",
   "execution_count": 29,
   "id": "888d3ab1",
   "metadata": {},
   "outputs": [
    {
     "data": {
      "text/plain": [
       "42"
      ]
     },
     "execution_count": 29,
     "metadata": {},
     "output_type": "execute_result"
    }
   ],
   "source": [
    "median_calculation([22, 50, 45, 30, 58, 42, 40])\n"
   ]
  },
  {
   "cell_type": "code",
   "execution_count": null,
   "id": "8c9639a1",
   "metadata": {},
   "outputs": [],
   "source": []
  }
 ],
 "metadata": {
  "kernelspec": {
   "display_name": "Python 3",
   "language": "python",
   "name": "python3"
  },
  "language_info": {
   "codemirror_mode": {
    "name": "ipython",
    "version": 3
   },
   "file_extension": ".py",
   "mimetype": "text/x-python",
   "name": "python",
   "nbconvert_exporter": "python",
   "pygments_lexer": "ipython3",
   "version": "3.8.8"
  }
 },
 "nbformat": 4,
 "nbformat_minor": 5
}
