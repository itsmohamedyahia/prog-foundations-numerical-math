{
 "cells": [
  {
   "cell_type": "markdown",
   "id": "89a8353f",
   "metadata": {},
   "source": [
    "### Solution: creating a grouped frequency table"
   ]
  },
  {
   "cell_type": "code",
   "execution_count": 1,
   "id": "29659fe6",
   "metadata": {},
   "outputs": [],
   "source": [
    "dogs=['Golden Retrievers','French Bulldogs','Dachshunds','Retrievers','Beagles','Dachshunds','German Shepherd Dogs','French Bulldogs','Poodles','French Bulldogs','Beagles','Beagles','Beagles','Beagles','Retrievers','Bulldogs','Retrievers','Retrievers','Poodles','Dachshunds','French Bulldogs','Retrievers','Dachshunds','Retrievers','Dachshunds','Retrievers','Retrievers','Poodles','Dachshunds','Retrievers','German Shepherd Dogs','Golden Retrievers','French Bulldogs','Poodles','Beagles','German Shepherd Dogs','Dachshunds','Retrievers','Retrievers','Bulldogs','French Bulldogs','German Shepherd Dogs','Dachshunds','Retrievers','Beagles','Beagles','French Bulldogs','Retrievers','Beagles','Golden Retrievers','Dachshunds','Beagles','Beagles','Beagles','Bulldogs','German Shepherd Dogs','Bulldogs','Beagles','Beagles','Bulldogs','Dachshunds','French Bulldogs','French Bulldogs','Bulldogs','German Shepherd Dogs','Bulldogs','German Shepherd Dogs','Retrievers','Beagles','Bulldogs','Golden Retrievers','Beagles','Retrievers','Poodles','German Shepherd Dogs','French Bulldogs','Poodles','Beagles','Retrievers','Retrievers','Poodles','Golden Retrievers','German Shepherd Dogs','French Bulldogs','Retrievers']"
   ]
  }
 ],
 "metadata": {
  "kernelspec": {
   "display_name": "Python 3",
   "language": "python",
   "name": "python3"
  },
  "language_info": {
   "codemirror_mode": {
    "name": "ipython",
    "version": 3
   },
   "file_extension": ".py",
   "mimetype": "text/x-python",
   "name": "python",
   "nbconvert_exporter": "python",
   "pygments_lexer": "ipython3",
   "version": "3.8.8"
  }
 },
 "nbformat": 4,
 "nbformat_minor": 5
}
