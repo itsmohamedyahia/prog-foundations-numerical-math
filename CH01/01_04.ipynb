{
 "cells": [
  {
   "cell_type": "markdown",
   "id": "f8fb9463",
   "metadata": {},
   "source": [
    "### Writing program to calculate factors of an integer"
   ]
  },
  {
   "cell_type": "code",
   "execution_count": 1,
   "id": "d18988f3",
   "metadata": {},
   "outputs": [
    {
     "data": {
      "text/plain": [
       "0"
      ]
     },
     "execution_count": 1,
     "metadata": {},
     "output_type": "execute_result"
    }
   ],
   "source": [
    "30%2"
   ]
  },
  {
   "cell_type": "code",
   "execution_count": 2,
   "id": "ffed0c50",
   "metadata": {},
   "outputs": [],
   "source": [
    "def calculate_factors(number):\n",
    "    list_of_factors=[]\n",
    "    for i in range(1,number+1):\n",
    "        if number % i == 0:\n",
    "            list_of_factors.append(i)\n",
    "    return list_of_factors"
   ]
  },
  {
   "cell_type": "code",
   "execution_count": 3,
   "id": "42c5ffe1",
   "metadata": {},
   "outputs": [
    {
     "data": {
      "text/plain": [
       "[1, 2, 3, 5, 6, 10, 15, 30]"
      ]
     },
     "execution_count": 3,
     "metadata": {},
     "output_type": "execute_result"
    }
   ],
   "source": [
    "calculate_factors(30)"
   ]
  },
  {
   "cell_type": "code",
   "execution_count": null,
   "id": "88aa07f6",
   "metadata": {},
   "outputs": [],
   "source": []
  }
 ],
 "metadata": {
  "kernelspec": {
   "display_name": "Python 3",
   "language": "python",
   "name": "python3"
  },
  "language_info": {
   "codemirror_mode": {
    "name": "ipython",
    "version": 3
   },
   "file_extension": ".py",
   "mimetype": "text/x-python",
   "name": "python",
   "nbconvert_exporter": "python",
   "pygments_lexer": "ipython3",
   "version": "3.8.8"
  }
 },
 "nbformat": 4,
 "nbformat_minor": 5
}
