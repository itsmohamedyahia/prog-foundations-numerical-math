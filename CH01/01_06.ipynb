{
 "cells": [
  {
   "cell_type": "markdown",
   "id": "72548499",
   "metadata": {},
   "source": [
    "### Solution:  converting units of measurement"
   ]
  },
  {
   "cell_type": "code",
   "execution_count": null,
   "id": "34cb1975",
   "metadata": {},
   "outputs": [
    {
     "name": "stdout",
     "output_type": "stream",
     "text": [
      "\n",
      "Menu\n",
      "1. Kilometers to Miles\n",
      "2. Miles to Kilometers\n",
      "0. Exit\n",
      "What would you like to convert?1\n",
      "Enter distance in kilometers: 100\n",
      "Distance in miles: 62.15040397762586\n",
      "\n",
      "Menu\n",
      "1. Kilometers to Miles\n",
      "2. Miles to Kilometers\n",
      "0. Exit\n"
     ]
    }
   ],
   "source": [
    "def select_conversion():\n",
    "    print('\\nMenu')\n",
    "    print('1. Kilometers to Miles')\n",
    "    print('2. Miles to Kilometers')\n",
    "    print('0. Exit')\n",
    "    \n",
    "def kilometers_to_miles():\n",
    "    km = float(input('Enter distance in kilometers: '))\n",
    "    miles = km / 1.609\n",
    "    \n",
    "    print ('Distance in miles: {0}'.format(miles))\n",
    "    \n",
    "def miles_to_kilometers():\n",
    "    miles = float(input('Enter distance in miles:'))\n",
    "    km = miles * 1.609\n",
    "    \n",
    "    print ('Distance in kilometers: {0}'.format(km))\n",
    "   \n",
    "option='1'\n",
    "while option!='0':\n",
    "    select_conversion()\n",
    "    option = input ('What would you like to convert?')\n",
    "    if option=='1':\n",
    "        kilometers_to_miles()\n",
    "    if option=='2':\n",
    "        miles_to_kilometers()"
   ]
  },
  {
   "cell_type": "code",
   "execution_count": null,
   "id": "f82a418f",
   "metadata": {},
   "outputs": [],
   "source": []
  }
 ],
 "metadata": {
  "kernelspec": {
   "display_name": "Python 3",
   "language": "python",
   "name": "python3"
  },
  "language_info": {
   "codemirror_mode": {
    "name": "ipython",
    "version": 3
   },
   "file_extension": ".py",
   "mimetype": "text/x-python",
   "name": "python",
   "nbconvert_exporter": "python",
   "pygments_lexer": "ipython3",
   "version": "3.8.8"
  }
 },
 "nbformat": 4,
 "nbformat_minor": 5
}
