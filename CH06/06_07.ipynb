{
 "cells": [
  {
   "cell_type": "code",
   "execution_count": 1,
   "id": "255e6279",
   "metadata": {},
   "outputs": [],
   "source": [
    "import numpy as np"
   ]
  },
  {
   "cell_type": "code",
   "execution_count": 2,
   "id": "6399c332",
   "metadata": {},
   "outputs": [],
   "source": [
    "from numpy.random import default_rng"
   ]
  },
  {
   "cell_type": "code",
   "execution_count": 3,
   "id": "33fe6f34",
   "metadata": {},
   "outputs": [],
   "source": [
    "rng = default_rng(12345)"
   ]
  },
  {
   "cell_type": "code",
   "execution_count": 4,
   "id": "02c454e5",
   "metadata": {},
   "outputs": [
    {
     "data": {
      "text/plain": [
       "array([14,  5, 15,  7,  4, 16, 13, 13, 19,  8])"
      ]
     },
     "execution_count": 4,
     "metadata": {},
     "output_type": "execute_result"
    }
   ],
   "source": [
    "rng.integers(1,20, size=10)"
   ]
  },
  {
   "cell_type": "code",
   "execution_count": 5,
   "id": "b4bb74ff",
   "metadata": {},
   "outputs": [
    {
     "data": {
      "text/plain": [
       "array([[0.33281393, 0.59830875, 0.18673419, 0.67275604, 0.94180287],\n",
       "       [0.24824571, 0.94888115, 0.66723745, 0.09589794, 0.44183967],\n",
       "       [0.88647992, 0.6974535 , 0.32647286, 0.73392816, 0.22013496],\n",
       "       [0.08159457, 0.1598956 , 0.34010018, 0.46519315, 0.26642103]])"
      ]
     },
     "execution_count": 5,
     "metadata": {},
     "output_type": "execute_result"
    }
   ],
   "source": [
    "rng.random(size=(4,5))"
   ]
  },
  {
   "cell_type": "code",
   "execution_count": 7,
   "id": "97d34e47",
   "metadata": {},
   "outputs": [
    {
     "data": {
      "text/plain": [
       "'apple'"
      ]
     },
     "execution_count": 7,
     "metadata": {},
     "output_type": "execute_result"
    }
   ],
   "source": [
    "from random import choice\n",
    "fruit = ['apple','pear','blueberry', 'melon', 'strawberry','lemon']\n",
    "choice(fruit)"
   ]
  },
  {
   "cell_type": "code",
   "execution_count": null,
   "id": "f28c5c85",
   "metadata": {},
   "outputs": [],
   "source": []
  }
 ],
 "metadata": {
  "kernelspec": {
   "display_name": "Python 3",
   "language": "python",
   "name": "python3"
  },
  "language_info": {
   "codemirror_mode": {
    "name": "ipython",
    "version": 3
   },
   "file_extension": ".py",
   "mimetype": "text/x-python",
   "name": "python",
   "nbconvert_exporter": "python",
   "pygments_lexer": "ipython3",
   "version": "3.8.8"
  }
 },
 "nbformat": 4,
 "nbformat_minor": 5
}
