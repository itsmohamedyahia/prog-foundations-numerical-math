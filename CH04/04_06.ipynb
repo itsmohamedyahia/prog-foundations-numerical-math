{
 "cells": [
  {
   "cell_type": "code",
   "execution_count": 1,
   "id": "159d63ca",
   "metadata": {},
   "outputs": [],
   "source": [
    "from numpy import array\n",
    "from numpy.linalg import inv"
   ]
  },
  {
   "cell_type": "code",
   "execution_count": 2,
   "id": "5fbdef56",
   "metadata": {},
   "outputs": [],
   "source": [
    "#  2x-y+2z=6\n",
    "#  3x+2y+z=14\n",
    "#  x-y-z=0\n",
    "\n",
    "A = array([\n",
    "    [2, -1, 2],\n",
    "    [3, 2, 1],\n",
    "    [1, -1, -1]\n",
    "])\n",
    "B = array([6,14,0])\n",
    "\n",
    "X = inv(A).dot(B)"
   ]
  },
  {
   "cell_type": "code",
   "execution_count": 3,
   "id": "ac8e43fa",
   "metadata": {},
   "outputs": [
    {
     "name": "stdout",
     "output_type": "stream",
     "text": [
      "[3. 2. 1.]\n"
     ]
    }
   ],
   "source": [
    "print(X)"
   ]
  },
  {
   "cell_type": "code",
   "execution_count": null,
   "id": "feee5c0e",
   "metadata": {},
   "outputs": [],
   "source": []
  }
 ],
 "metadata": {
  "kernelspec": {
   "display_name": "Python 3",
   "language": "python",
   "name": "python3"
  },
  "language_info": {
   "codemirror_mode": {
    "name": "ipython",
    "version": 3
   },
   "file_extension": ".py",
   "mimetype": "text/x-python",
   "name": "python",
   "nbconvert_exporter": "python",
   "pygments_lexer": "ipython3",
   "version": "3.8.8"
  }
 },
 "nbformat": 4,
 "nbformat_minor": 5
}
